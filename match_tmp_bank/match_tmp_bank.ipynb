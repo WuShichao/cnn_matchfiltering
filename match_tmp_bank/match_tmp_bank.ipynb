{
 "cells": [
  {
   "cell_type": "code",
   "execution_count": 3,
   "metadata": {},
   "outputs": [
    {
     "ename": "ImportError",
     "evalue": "No module named pylal",
     "output_type": "error",
     "traceback": [
      "\u001b[0;31m---------------------------------------------------------------------------\u001b[0m",
      "\u001b[0;31mImportError\u001b[0m                               Traceback (most recent call last)",
      "\u001b[0;32m<ipython-input-3-8276e5dc3021>\u001b[0m in \u001b[0;36m<module>\u001b[0;34m()\u001b[0m\n\u001b[1;32m      3\u001b[0m \u001b[0;32mimport\u001b[0m \u001b[0mlal\u001b[0m\u001b[0;34m\u001b[0m\u001b[0m\n\u001b[1;32m      4\u001b[0m \u001b[0;32mimport\u001b[0m \u001b[0mlalsimulation\u001b[0m\u001b[0;34m\u001b[0m\u001b[0m\n\u001b[0;32m----> 5\u001b[0;31m \u001b[0;32mfrom\u001b[0m \u001b[0mpylal\u001b[0m \u001b[0;32mimport\u001b[0m \u001b[0mantenna\u001b[0m\u001b[0;34m,\u001b[0m \u001b[0mcosmography\u001b[0m\u001b[0;34m\u001b[0m\u001b[0m\n\u001b[0m",
      "\u001b[0;31mImportError\u001b[0m: No module named pylal"
     ]
    }
   ],
   "source": [
    "import numpy as np\n",
    "import sys\n",
    "import lal\n",
    "import lalsimulation"
   ]
  },
  {
   "cell_type": "code",
   "execution_count": 4,
   "metadata": {
    "collapsed": true
   },
   "outputs": [],
   "source": [
    "def get_snr(data, T_obs, fs, psd):\n",
    "    \"\"\"\n",
    "    computes the snr of a whitened signal in unit variance time domain noise\n",
    "    \"\"\"\n",
    "\n",
    "    N = T_obs * fs\n",
    "    df = 1.0 / T_obs\n",
    "    dt = 1.0 / fs\n",
    "\n",
    "    win = tukey(N, alpha=1.0 / 8.0)\n",
    "    idx = np.argwhere(psd == 0.0)\n",
    "    psd[idx] = 1e300\n",
    "\n",
    "    xf = np.fft.rfft(data * win) * dt\n",
    "    SNRsq = 4.0 * np.sum((np.abs(xf) ** 2) / psd) * df\n",
    "    return np.sqrt(SNRsq)"
   ]
  },
  {
   "cell_type": "code",
   "execution_count": 60,
   "metadata": {},
   "outputs": [],
   "source": [
    "# define distribution params\n",
    "m_min = 5.0\n",
    "M_max = 100.0\n",
    "approximant = lalsimulation.IMRPhenomD\n",
    "dist = 1e6 * lal.PC_SI  # put it as 1 MPc\n",
    "overlap = 0.03 # overlap percentage\n",
    "N_tmp = 1000\n",
    "f_low = 40\n",
    "log_m_max = np.log(M_max - m_min)\n",
    "\n",
    "flag = False\n",
    "\n",
    "tau_list = []\n",
    "\n",
    "# iterate through number of templates desired\n",
    "# should replace with while loop\n",
    "# while loop should stop once bank is fully \n",
    "# saturated\n",
    "tau0 = []\n",
    "tau3 = []\n",
    "for i in xrange(N_tmp):\n",
    "    while not flag:\n",
    "        m12 = np.exp(np.log(m_min) + np.random.uniform(0, 1, 2) * (log_m_max - np.log(m_min)))\n",
    "        #m12 = m_min + np.random.uniform(0, 1, 2) * (M_max - m_min)\n",
    "        flag = True if (np.sum(m12) < M_max) and (np.all(m12 > m_min)) and (m12[0] >= m12[1]) else False\n",
    "    eta = m12[0] * m12[1] / (m12[0] + m12[1]) ** 2\n",
    "    mc = np.sum(m12) * eta ** (3.0 / 5.0)\n",
    "    # define tau variables\n",
    "    tau0.append(np.divide(5,256*3.14*f_low*eta) * np.divide(3.14*(6.674*10**11)*mc*f_low,(3*10**8))**(-5./3))\n",
    "    tau3.append(np.divide(5,8*f_low*eta) * np.divide(3.14*(6.674*10**11)*mc*f_low,(3*10**8))**(-2./3))"
   ]
  },
  {
   "cell_type": "code",
   "execution_count": 63,
   "metadata": {},
   "outputs": [
    {
     "data": {
      "text/plain": [
       "-31.208641783169192"
      ]
     },
     "execution_count": 63,
     "metadata": {},
     "output_type": "execute_result"
    }
   ],
   "source": []
  },
  {
   "cell_type": "code",
   "execution_count": 30,
   "metadata": {},
   "outputs": [],
   "source": [
    "# define distribution params\n",
    "tau0_min = 1\n",
    "tau0_max = 45\n",
    "tau3_min = 0.2\n",
    "tau3_max = 1.4\n",
    "approximant = lalsimulation.IMRPhenomD\n",
    "dist = 1e6 * lal.PC_SI  # put it as 1 MPc\n",
    "overlap = 0.03 # overlap percentage\n",
    "N_tmp = 1000\n",
    "\n",
    "flag = False\n",
    "\n",
    "tau_list = []\n",
    "\n",
    "# iterate through number of templates desired\n",
    "# should replace with while loop\n",
    "# while loop should stop once bank is fully \n",
    "# saturated\n",
    "tau0 = []\n",
    "tau3 = []\n",
    "for i in xrange(N_tmp):\n",
    "    #tau0.append(np.exp(np.log(tau0_min) + np.random.uniform(0, 1, 2) * (np.log(tau0_max))))\n",
    "    #tau3.append(np.exp(np.log(tau3_min) + np.random.uniform(0, 1, 2) * (np.log(tau3_max))))\n",
    "    tau0.append(tau0_min + np.random.uniform(0, 1, 2) * tau0_max)\n",
    "    tau3.append(tau3_min + np.random.uniform(0, 1, 2) * tau3_max)\n",
    "    "
   ]
  },
  {
   "cell_type": "code",
   "execution_count": 64,
   "metadata": {},
   "outputs": [
    {
     "data": {
      "image/png": "[encoded data removed]",
      "text/plain": [
       "<matplotlib.figure.Figure at 0x7f44812cbe10>"
      ]
     },
     "metadata": {},
     "output_type": "display_data"
    }
   ],
   "source": [
    "import matplotlib.pyplot as plt\n",
    "plt.scatter(np.log(tau0),np.log(tau3),s=2)\n",
    "plt.show()\n",
    "plt.close()"
   ]
  },
  {
   "cell_type": "code",
   "execution_count": null,
   "metadata": {
    "collapsed": true
   },
   "outputs": [],
   "source": []
  }
 ],
 "metadata": {
  "kernelspec": {
   "display_name": "Python 2",
   "language": "python",
   "name": "python2"
  },
  "language_info": {
   "codemirror_mode": {
    "name": "ipython",
    "version": 2
   },
   "file_extension": ".py",
   "mimetype": "text/x-python",
   "name": "python",
   "nbconvert_exporter": "python",
   "pygments_lexer": "ipython2",
   "version": "2.7.12"
  }
 },
 "nbformat": 4,
 "nbformat_minor": 2
}
